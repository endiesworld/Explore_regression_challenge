{
 "cells": [
  {
   "cell_type": "markdown",
   "metadata": {},
   "source": [
    "# Linear Regression on the World Population\n",
    "© Explore Data Science Academy"
   ]
  },
  {
   "cell_type": "markdown",
   "metadata": {},
   "source": [
    "Now that we know about cleaning and exploring a dataset, we will now train a simple linear regression model on a set of data. We'll use the world population data from the Analyse Exam."
   ]
  },
  {
   "cell_type": "markdown",
   "metadata": {},
   "source": [
    "\n",
    "## Honour Code\n",
    "\n",
    "I **Emmanuel**, **Okoro**, confirm - by submitting this document - that the solutions in this notebook are a result of my own work and that I abide by the EDSA honour code (https://drive.google.com/file/d/1QDCjGZJ8-FmJE3bZdIQNwnJyQKPhHZBn/view?usp=sharing).\n",
    "\n",
    "Non-compliance with the honour code constitutes a material breach of contract.\n"
   ]
  },
  {
   "cell_type": "markdown",
   "metadata": {},
   "source": [
    "## Imports"
   ]
  },
  {
   "cell_type": "code",
   "execution_count": 1,
   "metadata": {},
   "outputs": [],
   "source": [
    "import pandas as pd\n",
    "import numpy as np\n",
    "\n",
    "from sklearn.linear_model import Ridge\n",
    "from sklearn.model_selection import train_test_split"
   ]
  },
  {
   "cell_type": "code",
   "execution_count": 2,
   "metadata": {},
   "outputs": [],
   "source": [
    "df_pop = pd.read_csv('https://raw.githubusercontent.com/Explore-AI/Public-Data/master/AnalyseProject/world_population.csv')\n",
    "country_map_df = pd.read_csv('https://raw.githubusercontent.com/Explore-AI/Public-Data/master/AnalyseProject/country_code_map.csv', index_col='Country Code')"
   ]
  },
  {
   "cell_type": "code",
   "execution_count": 3,
   "metadata": {},
   "outputs": [
    {
     "data": {
      "text/html": [
       "<div>\n",
       "<style scoped>\n",
       "    .dataframe tbody tr th:only-of-type {\n",
       "        vertical-align: middle;\n",
       "    }\n",
       "\n",
       "    .dataframe tbody tr th {\n",
       "        vertical-align: top;\n",
       "    }\n",
       "\n",
       "    .dataframe thead th {\n",
       "        text-align: right;\n",
       "    }\n",
       "</style>\n",
       "<table border=\"1\" class=\"dataframe\">\n",
       "  <thead>\n",
       "    <tr style=\"text-align: right;\">\n",
       "      <th></th>\n",
       "      <th>Country Code</th>\n",
       "      <th>1960</th>\n",
       "      <th>1961</th>\n",
       "      <th>1962</th>\n",
       "      <th>1963</th>\n",
       "      <th>1964</th>\n",
       "      <th>1965</th>\n",
       "      <th>1966</th>\n",
       "      <th>1967</th>\n",
       "      <th>1968</th>\n",
       "      <th>...</th>\n",
       "      <th>2008</th>\n",
       "      <th>2009</th>\n",
       "      <th>2010</th>\n",
       "      <th>2011</th>\n",
       "      <th>2012</th>\n",
       "      <th>2013</th>\n",
       "      <th>2014</th>\n",
       "      <th>2015</th>\n",
       "      <th>2016</th>\n",
       "      <th>2017</th>\n",
       "    </tr>\n",
       "  </thead>\n",
       "  <tbody>\n",
       "    <tr>\n",
       "      <th>0</th>\n",
       "      <td>ABW</td>\n",
       "      <td>54211.0</td>\n",
       "      <td>55438.0</td>\n",
       "      <td>56225.0</td>\n",
       "      <td>56695.0</td>\n",
       "      <td>57032.0</td>\n",
       "      <td>57360.0</td>\n",
       "      <td>57715.0</td>\n",
       "      <td>58055.0</td>\n",
       "      <td>58386.0</td>\n",
       "      <td>...</td>\n",
       "      <td>101353.0</td>\n",
       "      <td>101453.0</td>\n",
       "      <td>101669.0</td>\n",
       "      <td>102053.0</td>\n",
       "      <td>102577.0</td>\n",
       "      <td>103187.0</td>\n",
       "      <td>103795.0</td>\n",
       "      <td>104341.0</td>\n",
       "      <td>104822.0</td>\n",
       "      <td>105264.0</td>\n",
       "    </tr>\n",
       "    <tr>\n",
       "      <th>1</th>\n",
       "      <td>AFG</td>\n",
       "      <td>8996351.0</td>\n",
       "      <td>9166764.0</td>\n",
       "      <td>9345868.0</td>\n",
       "      <td>9533954.0</td>\n",
       "      <td>9731361.0</td>\n",
       "      <td>9938414.0</td>\n",
       "      <td>10152331.0</td>\n",
       "      <td>10372630.0</td>\n",
       "      <td>10604346.0</td>\n",
       "      <td>...</td>\n",
       "      <td>27294031.0</td>\n",
       "      <td>28004331.0</td>\n",
       "      <td>28803167.0</td>\n",
       "      <td>29708599.0</td>\n",
       "      <td>30696958.0</td>\n",
       "      <td>31731688.0</td>\n",
       "      <td>32758020.0</td>\n",
       "      <td>33736494.0</td>\n",
       "      <td>34656032.0</td>\n",
       "      <td>35530081.0</td>\n",
       "    </tr>\n",
       "    <tr>\n",
       "      <th>2</th>\n",
       "      <td>AGO</td>\n",
       "      <td>5643182.0</td>\n",
       "      <td>5753024.0</td>\n",
       "      <td>5866061.0</td>\n",
       "      <td>5980417.0</td>\n",
       "      <td>6093321.0</td>\n",
       "      <td>6203299.0</td>\n",
       "      <td>6309770.0</td>\n",
       "      <td>6414995.0</td>\n",
       "      <td>6523791.0</td>\n",
       "      <td>...</td>\n",
       "      <td>21759420.0</td>\n",
       "      <td>22549547.0</td>\n",
       "      <td>23369131.0</td>\n",
       "      <td>24218565.0</td>\n",
       "      <td>25096150.0</td>\n",
       "      <td>25998340.0</td>\n",
       "      <td>26920466.0</td>\n",
       "      <td>27859305.0</td>\n",
       "      <td>28813463.0</td>\n",
       "      <td>29784193.0</td>\n",
       "    </tr>\n",
       "    <tr>\n",
       "      <th>3</th>\n",
       "      <td>ALB</td>\n",
       "      <td>1608800.0</td>\n",
       "      <td>1659800.0</td>\n",
       "      <td>1711319.0</td>\n",
       "      <td>1762621.0</td>\n",
       "      <td>1814135.0</td>\n",
       "      <td>1864791.0</td>\n",
       "      <td>1914573.0</td>\n",
       "      <td>1965598.0</td>\n",
       "      <td>2022272.0</td>\n",
       "      <td>...</td>\n",
       "      <td>2947314.0</td>\n",
       "      <td>2927519.0</td>\n",
       "      <td>2913021.0</td>\n",
       "      <td>2905195.0</td>\n",
       "      <td>2900401.0</td>\n",
       "      <td>2895092.0</td>\n",
       "      <td>2889104.0</td>\n",
       "      <td>2880703.0</td>\n",
       "      <td>2876101.0</td>\n",
       "      <td>2873457.0</td>\n",
       "    </tr>\n",
       "    <tr>\n",
       "      <th>4</th>\n",
       "      <td>AND</td>\n",
       "      <td>13411.0</td>\n",
       "      <td>14375.0</td>\n",
       "      <td>15370.0</td>\n",
       "      <td>16412.0</td>\n",
       "      <td>17469.0</td>\n",
       "      <td>18549.0</td>\n",
       "      <td>19647.0</td>\n",
       "      <td>20758.0</td>\n",
       "      <td>21890.0</td>\n",
       "      <td>...</td>\n",
       "      <td>83861.0</td>\n",
       "      <td>84462.0</td>\n",
       "      <td>84449.0</td>\n",
       "      <td>83751.0</td>\n",
       "      <td>82431.0</td>\n",
       "      <td>80788.0</td>\n",
       "      <td>79223.0</td>\n",
       "      <td>78014.0</td>\n",
       "      <td>77281.0</td>\n",
       "      <td>76965.0</td>\n",
       "    </tr>\n",
       "  </tbody>\n",
       "</table>\n",
       "<p>5 rows × 59 columns</p>\n",
       "</div>"
      ],
      "text/plain": [
       "  Country Code       1960       1961       1962       1963       1964  \\\n",
       "0          ABW    54211.0    55438.0    56225.0    56695.0    57032.0   \n",
       "1          AFG  8996351.0  9166764.0  9345868.0  9533954.0  9731361.0   \n",
       "2          AGO  5643182.0  5753024.0  5866061.0  5980417.0  6093321.0   \n",
       "3          ALB  1608800.0  1659800.0  1711319.0  1762621.0  1814135.0   \n",
       "4          AND    13411.0    14375.0    15370.0    16412.0    17469.0   \n",
       "\n",
       "        1965        1966        1967        1968  ...        2008        2009  \\\n",
       "0    57360.0     57715.0     58055.0     58386.0  ...    101353.0    101453.0   \n",
       "1  9938414.0  10152331.0  10372630.0  10604346.0  ...  27294031.0  28004331.0   \n",
       "2  6203299.0   6309770.0   6414995.0   6523791.0  ...  21759420.0  22549547.0   \n",
       "3  1864791.0   1914573.0   1965598.0   2022272.0  ...   2947314.0   2927519.0   \n",
       "4    18549.0     19647.0     20758.0     21890.0  ...     83861.0     84462.0   \n",
       "\n",
       "         2010        2011        2012        2013        2014        2015  \\\n",
       "0    101669.0    102053.0    102577.0    103187.0    103795.0    104341.0   \n",
       "1  28803167.0  29708599.0  30696958.0  31731688.0  32758020.0  33736494.0   \n",
       "2  23369131.0  24218565.0  25096150.0  25998340.0  26920466.0  27859305.0   \n",
       "3   2913021.0   2905195.0   2900401.0   2895092.0   2889104.0   2880703.0   \n",
       "4     84449.0     83751.0     82431.0     80788.0     79223.0     78014.0   \n",
       "\n",
       "         2016        2017  \n",
       "0    104822.0    105264.0  \n",
       "1  34656032.0  35530081.0  \n",
       "2  28813463.0  29784193.0  \n",
       "3   2876101.0   2873457.0  \n",
       "4     77281.0     76965.0  \n",
       "\n",
       "[5 rows x 59 columns]"
      ]
     },
     "execution_count": 3,
     "metadata": {},
     "output_type": "execute_result"
    }
   ],
   "source": [
    "df_pop.head()"
   ]
  },
  {
   "cell_type": "code",
   "execution_count": 4,
   "metadata": {},
   "outputs": [
    {
     "data": {
      "text/html": [
       "<div>\n",
       "<style scoped>\n",
       "    .dataframe tbody tr th:only-of-type {\n",
       "        vertical-align: middle;\n",
       "    }\n",
       "\n",
       "    .dataframe tbody tr th {\n",
       "        vertical-align: top;\n",
       "    }\n",
       "\n",
       "    .dataframe thead th {\n",
       "        text-align: right;\n",
       "    }\n",
       "</style>\n",
       "<table border=\"1\" class=\"dataframe\">\n",
       "  <thead>\n",
       "    <tr style=\"text-align: right;\">\n",
       "      <th></th>\n",
       "      <th>Country Name</th>\n",
       "    </tr>\n",
       "    <tr>\n",
       "      <th>Country Code</th>\n",
       "      <th></th>\n",
       "    </tr>\n",
       "  </thead>\n",
       "  <tbody>\n",
       "    <tr>\n",
       "      <th>ABW</th>\n",
       "      <td>Aruba</td>\n",
       "    </tr>\n",
       "    <tr>\n",
       "      <th>AFG</th>\n",
       "      <td>Afghanistan</td>\n",
       "    </tr>\n",
       "    <tr>\n",
       "      <th>AGO</th>\n",
       "      <td>Angola</td>\n",
       "    </tr>\n",
       "    <tr>\n",
       "      <th>ALB</th>\n",
       "      <td>Albania</td>\n",
       "    </tr>\n",
       "    <tr>\n",
       "      <th>AND</th>\n",
       "      <td>Andorra</td>\n",
       "    </tr>\n",
       "  </tbody>\n",
       "</table>\n",
       "</div>"
      ],
      "text/plain": [
       "             Country Name\n",
       "Country Code             \n",
       "ABW                 Aruba\n",
       "AFG           Afghanistan\n",
       "AGO                Angola\n",
       "ALB               Albania\n",
       "AND               Andorra"
      ]
     },
     "execution_count": 4,
     "metadata": {},
     "output_type": "execute_result"
    }
   ],
   "source": [
    "country_map_df.head()"
   ]
  },
  {
   "cell_type": "code",
   "execution_count": 5,
   "metadata": {},
   "outputs": [
    {
     "name": "stdout",
     "output_type": "stream",
     "text": [
      "<class 'pandas.core.frame.DataFrame'>\n",
      "Index: 217 entries, ABW to ZWE\n",
      "Data columns (total 1 columns):\n",
      " #   Column        Non-Null Count  Dtype \n",
      "---  ------        --------------  ----- \n",
      " 0   Country Name  217 non-null    object\n",
      "dtypes: object(1)\n",
      "memory usage: 3.4+ KB\n"
     ]
    }
   ],
   "source": [
    "country_map_df.info()"
   ]
  },
  {
   "cell_type": "code",
   "execution_count": 6,
   "metadata": {},
   "outputs": [
    {
     "name": "stdout",
     "output_type": "stream",
     "text": [
      "<class 'pandas.core.frame.DataFrame'>\n",
      "RangeIndex: 217 entries, 0 to 216\n",
      "Data columns (total 59 columns):\n",
      " #   Column        Non-Null Count  Dtype  \n",
      "---  ------        --------------  -----  \n",
      " 0   Country Code  217 non-null    object \n",
      " 1   1960          214 non-null    float64\n",
      " 2   1961          214 non-null    float64\n",
      " 3   1962          214 non-null    float64\n",
      " 4   1963          214 non-null    float64\n",
      " 5   1964          214 non-null    float64\n",
      " 6   1965          214 non-null    float64\n",
      " 7   1966          214 non-null    float64\n",
      " 8   1967          214 non-null    float64\n",
      " 9   1968          214 non-null    float64\n",
      " 10  1969          214 non-null    float64\n",
      " 11  1970          214 non-null    float64\n",
      " 12  1971          214 non-null    float64\n",
      " 13  1972          214 non-null    float64\n",
      " 14  1973          214 non-null    float64\n",
      " 15  1974          214 non-null    float64\n",
      " 16  1975          214 non-null    float64\n",
      " 17  1976          214 non-null    float64\n",
      " 18  1977          214 non-null    float64\n",
      " 19  1978          214 non-null    float64\n",
      " 20  1979          214 non-null    float64\n",
      " 21  1980          214 non-null    float64\n",
      " 22  1981          214 non-null    float64\n",
      " 23  1982          214 non-null    float64\n",
      " 24  1983          214 non-null    float64\n",
      " 25  1984          214 non-null    float64\n",
      " 26  1985          214 non-null    float64\n",
      " 27  1986          214 non-null    float64\n",
      " 28  1987          214 non-null    float64\n",
      " 29  1988          214 non-null    float64\n",
      " 30  1989          214 non-null    float64\n",
      " 31  1990          216 non-null    float64\n",
      " 32  1991          216 non-null    float64\n",
      " 33  1992          215 non-null    float64\n",
      " 34  1993          215 non-null    float64\n",
      " 35  1994          215 non-null    float64\n",
      " 36  1995          216 non-null    float64\n",
      " 37  1996          216 non-null    float64\n",
      " 38  1997          216 non-null    float64\n",
      " 39  1998          217 non-null    float64\n",
      " 40  1999          217 non-null    float64\n",
      " 41  2000          217 non-null    float64\n",
      " 42  2001          217 non-null    float64\n",
      " 43  2002          217 non-null    float64\n",
      " 44  2003          217 non-null    float64\n",
      " 45  2004          217 non-null    float64\n",
      " 46  2005          217 non-null    float64\n",
      " 47  2006          217 non-null    float64\n",
      " 48  2007          217 non-null    float64\n",
      " 49  2008          217 non-null    float64\n",
      " 50  2009          217 non-null    float64\n",
      " 51  2010          217 non-null    float64\n",
      " 52  2011          217 non-null    float64\n",
      " 53  2012          216 non-null    float64\n",
      " 54  2013          216 non-null    float64\n",
      " 55  2014          216 non-null    float64\n",
      " 56  2015          216 non-null    float64\n",
      " 57  2016          216 non-null    float64\n",
      " 58  2017          216 non-null    float64\n",
      "dtypes: float64(58), object(1)\n",
      "memory usage: 100.1+ KB\n"
     ]
    }
   ],
   "source": [
    "df_pop.info()"
   ]
  },
  {
   "cell_type": "markdown",
   "metadata": {},
   "source": [
    "## Questions"
   ]
  },
  {
   "cell_type": "markdown",
   "metadata": {},
   "source": [
    "### Question 1"
   ]
  },
  {
   "cell_type": "markdown",
   "metadata": {},
   "source": [
    "The world population data spans from 1960 to 2017. We'd like to build a predictive model that can give us the best guess at what the future or past population of a particular country was or might be.\n",
    "\n",
    "First, however, we need to formulate our data such that sklearn's `Ridge` regression class can train on our data. To do this, we will write a function that takes as input a country name and return a 2-d numpy array that contains the year and the measured population. \n",
    "\n",
    "_**Function Specifications:**_\n",
    "* Should take a `str` as input and return a numpy `array` type as output.\n",
    "* The array should only have two columns containing the year and the population, in other words, it should have a shape `(?, 2)` where `?` is the length of the data.\n",
    "* The values within the array should be of type `int`.\n",
    "\n",
    "_**Hint:**_\n",
    "You'll need to use both the the population and country map dataframes given above."
   ]
  },
  {
   "cell_type": "code",
   "execution_count": 7,
   "metadata": {},
   "outputs": [],
   "source": [
    "### START FUNCTION\n",
    "def get_year_pop(country_name):\n",
    "    # your code here\n",
    "    df_pop_copy = df_pop.dropna()\n",
    "    reset_country_map_df = country_map_df.reset_index()\n",
    "    combined_table = reset_country_map_df.merge(df_pop_copy, on='Country Code', how = 'left')\n",
    "    table_column = combined_table[combined_table['Country Name'] == country_name].columns\n",
    "    table_value = combined_table[combined_table['Country Name'] == country_name].values\n",
    "    population = table_value[0, 2:]\n",
    "    years = table_column[2:]\n",
    "    year_pop = pd.DataFrame({\"A\": years.astype(\"int\"), \"B\": population}, dtype = int).to_numpy()\n",
    "\n",
    "    return year_pop\n",
    "\n",
    "### END FUNCTION"
   ]
  },
  {
   "cell_type": "code",
   "execution_count": 8,
   "metadata": {},
   "outputs": [
    {
     "data": {
      "text/plain": [
       "(58, 2)"
      ]
     },
     "execution_count": 8,
     "metadata": {},
     "output_type": "execute_result"
    }
   ],
   "source": [
    "get_year_pop('Aruba').shape"
   ]
  },
  {
   "cell_type": "code",
   "execution_count": 9,
   "metadata": {},
   "outputs": [
    {
     "data": {
      "text/plain": [
       "array([[  1960,  54211],\n",
       "       [  1961,  55438],\n",
       "       [  1962,  56225],\n",
       "       [  1963,  56695],\n",
       "       [  1964,  57032],\n",
       "       [  1965,  57360],\n",
       "       [  1966,  57715],\n",
       "       [  1967,  58055],\n",
       "       [  1968,  58386],\n",
       "       [  1969,  58726],\n",
       "       [  1970,  59063],\n",
       "       [  1971,  59440],\n",
       "       [  1972,  59840],\n",
       "       [  1973,  60243],\n",
       "       [  1974,  60528],\n",
       "       [  1975,  60657],\n",
       "       [  1976,  60586],\n",
       "       [  1977,  60366],\n",
       "       [  1978,  60103],\n",
       "       [  1979,  59980],\n",
       "       [  1980,  60096],\n",
       "       [  1981,  60567],\n",
       "       [  1982,  61345],\n",
       "       [  1983,  62201],\n",
       "       [  1984,  62836],\n",
       "       [  1985,  63026],\n",
       "       [  1986,  62644],\n",
       "       [  1987,  61833],\n",
       "       [  1988,  61079],\n",
       "       [  1989,  61032],\n",
       "       [  1990,  62149],\n",
       "       [  1991,  64622],\n",
       "       [  1992,  68235],\n",
       "       [  1993,  72504],\n",
       "       [  1994,  76700],\n",
       "       [  1995,  80324],\n",
       "       [  1996,  83200],\n",
       "       [  1997,  85451],\n",
       "       [  1998,  87277],\n",
       "       [  1999,  89005],\n",
       "       [  2000,  90853],\n",
       "       [  2001,  92898],\n",
       "       [  2002,  94992],\n",
       "       [  2003,  97017],\n",
       "       [  2004,  98737],\n",
       "       [  2005, 100031],\n",
       "       [  2006, 100832],\n",
       "       [  2007, 101220],\n",
       "       [  2008, 101353],\n",
       "       [  2009, 101453],\n",
       "       [  2010, 101669],\n",
       "       [  2011, 102053],\n",
       "       [  2012, 102577],\n",
       "       [  2013, 103187],\n",
       "       [  2014, 103795],\n",
       "       [  2015, 104341],\n",
       "       [  2016, 104822],\n",
       "       [  2017, 105264]])"
      ]
     },
     "execution_count": 9,
     "metadata": {},
     "output_type": "execute_result"
    }
   ],
   "source": [
    "get_year_pop('Aruba')"
   ]
  },
  {
   "cell_type": "markdown",
   "metadata": {},
   "source": [
    "_**Expected Outputs:**_\n",
    "```python\n",
    "get_year_pop('Aruba')\n",
    "```\n",
    "> ```\n",
    "array([[  1960,  54211],\n",
    "       [  1961,  55438],\n",
    "       [  1962,  56225],\n",
    "        ...\n",
    "       [  2016, 104822],\n",
    "       [  2017, 105264]])\n",
    "```\n",
    "\n",
    "```python\n",
    "get_year_pop('Aruba').shape == (58, 2)\n",
    "```"
   ]
  },
  {
   "cell_type": "markdown",
   "metadata": {},
   "source": [
    "### Question 2"
   ]
  },
  {
   "cell_type": "markdown",
   "metadata": {},
   "source": [
    "Now that we have have our data, we need to split this into a training set, and a testing set. But before we split our data into training and testing, we also need to split our data into the predictive features (denoted `X`) and the response (denoted `y`). \n",
    "\n",
    "Write a function that will take as input a 2-d numpy array and return four variables in the form of `(X_train, y_train), (X_test, y_test)`, where `(X_train, y_train)` are the features + response of the training set, and `(X-test, y_test)` are the features + response of the testing set.\n",
    "\n",
    "_**Function Specifications:**_\n",
    "* Should take a 2-d numpy `array` as input.\n",
    "* Should split the array such that X is the year, and y is the corresponding population.\n",
    "* Should return two `tuples` of the form `(X_train, y_train), (X_test, y_test)`.\n",
    "* Should use sklearn's train_test_split function with a `test_size = 0.2` and `random_state = 42`."
   ]
  },
  {
   "cell_type": "code",
   "execution_count": null,
   "metadata": {},
   "outputs": [],
   "source": []
  },
  {
   "cell_type": "code",
   "execution_count": 10,
   "metadata": {},
   "outputs": [],
   "source": [
    "### START FUNCTION\n",
    "def feature_response_split(arr):\n",
    "    # your code here\n",
    "    dataset = pd.DataFrame(arr, columns=[\"X\", \"Y\"])\n",
    "    y = dataset['Y']\n",
    "    x = dataset['X']\n",
    "    X_train, X_test, y_train, y_test = train_test_split(x, y, test_size=0.2, random_state=42)\n",
    "    return (X_train.to_numpy(), y_train.to_numpy()), (X_test.to_numpy(), y_test.to_numpy())\n",
    "\n",
    "### END FUNCTION"
   ]
  },
  {
   "cell_type": "code",
   "execution_count": 11,
   "metadata": {},
   "outputs": [
    {
     "data": {
      "text/plain": [
       "((array([1996, 1991, 1968, 1977, 1966, 1964, 2001, 1979, 1990, 2009, 2010,\n",
       "         2014, 1975, 1969, 1987, 1986, 1976, 1984, 1993, 2015, 2000, 1971,\n",
       "         1992, 2016, 2003, 1989, 2013, 1961, 1981, 1962, 2005, 1999, 1995,\n",
       "         1983, 2007, 1970, 1982, 1978, 2017, 1980, 1967, 2002, 1974, 1988,\n",
       "         2011, 1998]),\n",
       "  array([ 83200,  64622,  58386,  60366,  57715,  57032,  92898,  59980,\n",
       "          62149, 101453, 101669, 103795,  60657,  58726,  61833,  62644,\n",
       "          60586,  62836,  72504, 104341,  90853,  59440,  68235, 104822,\n",
       "          97017,  61032, 103187,  55438,  60567,  56225, 100031,  89005,\n",
       "          80324,  62201, 101220,  59063,  61345,  60103, 105264,  60096,\n",
       "          58055,  94992,  60528,  61079, 102053,  87277])),\n",
       " (array([1960, 1965, 1994, 1973, 2004, 2012, 1997, 1985, 2006, 1972, 2008,\n",
       "         1963]),\n",
       "  array([ 54211,  57360,  76700,  60243,  98737, 102577,  85451,  63026,\n",
       "         100832,  59840, 101353,  56695])))"
      ]
     },
     "execution_count": 11,
     "metadata": {},
     "output_type": "execute_result"
    }
   ],
   "source": [
    "data = get_year_pop('Aruba')\n",
    "feature_response_split(data)\n"
   ]
  },
  {
   "cell_type": "markdown",
   "metadata": {},
   "source": [
    "_**Expected Outputs:**_\n",
    "```python\n",
    "data = get_year_pop('Aruba')\n",
    "feature_response_split(data)\n",
    "```\n",
    "> \n",
    "```\n",
    "X_train == array([1996, 1991, 1968, 1977, 1966, 1964, 2001, 1979, 1990, 2009, 2010,\n",
    "       2014, 1975, 1969, 1987, 1986, 1976, 1984, 1993, 2015, 2000, 1971,\n",
    "       1992, 2016, 2003, 1989, 2013, 1961, 1981, 1962, 2005, 1999, 1995,\n",
    "       1983, 2007, 1970, 1982, 1978, 2017, 1980, 1967, 2002, 1974, 1988,\n",
    "       2011, 1998])\n",
    "\n",
    "y_train == array([ 83200,  64622,  58386,  60366,  57715,  57032,  92898,  59980,\n",
    "        62149, 101453, 101669, 103795,  60657,  58726,  61833,  62644,\n",
    "        60586,  62836,  72504, 104341,  90853,  59440,  68235, 104822,\n",
    "        97017,  61032, 103187,  55438,  60567,  56225, 100031,  89005,\n",
    "        80324,  62201, 101220,  59063,  61345,  60103, 105264,  60096,\n",
    "        58055,  94992,  60528,  61079, 102053,  87277])\n",
    "        \n",
    "X_test == array([1960, 1965, 1994, 1973, 2004, 2012, 1997, 1985, 2006, 1972, 2008,\n",
    "       1963])\n",
    "       \n",
    "y_test == array([ 54211,  57360,  76700,  60243,  98737, 102577,  85451,  63026,\n",
    "       100832,  59840, 101353,  56695])\n",
    " ```"
   ]
  },
  {
   "cell_type": "markdown",
   "metadata": {},
   "source": [
    "### Question 3"
   ]
  },
  {
   "cell_type": "markdown",
   "metadata": {},
   "source": [
    "Now that we have formatted our data, we can fit a model using sklearn's `Ridge()` class. We'll write a function that will take as input the features and response variables that we created in the last question, and returns a trained model.\n",
    "\n",
    "_**Function Specifications:**_\n",
    "* Should take two numpy `arrays` as input in the form `(X_train, y_train)`.\n",
    "* Should return an sklearn `Ridge` model.\n",
    "* The returned model should be fitted to the data.\n",
    "\n",
    "_**Hint:**_\n",
    "You may need to reshape the data within the function. You can use `.reshape(-1, 1)` to do this."
   ]
  },
  {
   "cell_type": "code",
   "execution_count": 12,
   "metadata": {},
   "outputs": [],
   "source": [
    "### START FUNCTION\n",
    "def train_model(X_train, y_train):\n",
    "    # your code here\n",
    "    lm = Ridge(alpha=1.0)\n",
    "    lm.fit(X_train.reshape(-1, 1), y_train.reshape(-1, 1))\n",
    "    return lm\n",
    "\n",
    "### END FUNCTION"
   ]
  },
  {
   "cell_type": "code",
   "execution_count": 13,
   "metadata": {},
   "outputs": [
    {
     "data": {
      "text/plain": [
       "array([[104468.15547163]])"
      ]
     },
     "execution_count": 13,
     "metadata": {},
     "output_type": "execute_result"
    }
   ],
   "source": [
    "data = get_year_pop('Aruba')\n",
    "(X_train, y_train), _ = feature_response_split(data)\n",
    "\n",
    "train_model(X_train, y_train).predict([[2017]])"
   ]
  },
  {
   "cell_type": "markdown",
   "metadata": {},
   "source": [
    "_**Expected Outputs:**_\n",
    "```python\n",
    "train_model(X_train, y_train).predict([[2017]]) == array([[104468.15547163]])\n",
    "```"
   ]
  },
  {
   "cell_type": "markdown",
   "metadata": {},
   "source": [
    "### Question 4"
   ]
  },
  {
   "cell_type": "markdown",
   "metadata": {},
   "source": [
    "We would now like to test our model using the testing data that we produced from Question 2. To chieve this, we'll use the mean square error, which for your convenience is written as:\n",
    "$$\n",
    "MSE = \\frac{1}{N}\\sum_{i=1}^N (p_i - y_i)^2,\n",
    "$$\n",
    "where $p_i$ refers to the $i^{\\rm th}$ prediction made from `X_test`, $y_i$ refers to the $i^{\\rm th}$ value in `y_test`, and $N$ is the length of `y_test`.\n",
    "\n",
    "_**Function Specifications:**_\n",
    "* Should take a trained model and two `arrays` as input. This will be the `X_test` and `y_test` variables from Question 2. \n",
    "* Should return the mean square error over the input from the predicted values of `X_test` as compared to values of `y_test`.\n",
    "* The output should be a `float` rounded to 2 decimal places."
   ]
  },
  {
   "cell_type": "code",
   "execution_count": 14,
   "metadata": {},
   "outputs": [],
   "source": [
    "### START FUNCTION\n",
    "from sklearn import metrics\n",
    "def test_model(model, X_test, y_test):\n",
    "    # your code here\n",
    "    gen_y_test = model.predict(X_test.reshape(-1, 1))\n",
    "    MSE = metrics.mean_squared_error(y_test, gen_y_test)\n",
    "\n",
    "    return round(MSE, 2)\n",
    "\n",
    "### END FUNCTION"
   ]
  },
  {
   "cell_type": "code",
   "execution_count": 15,
   "metadata": {},
   "outputs": [
    {
     "data": {
      "text/plain": [
       "42483684.58"
      ]
     },
     "execution_count": 15,
     "metadata": {},
     "output_type": "execute_result"
    }
   ],
   "source": [
    "data = get_year_pop('Aruba')\n",
    "(X_train, y_train), (X_test, y_test) = feature_response_split(data)\n",
    "lm = train_model(X_train, y_train)\n",
    "\n",
    "test_model(lm, X_test, y_test)"
   ]
  },
  {
   "cell_type": "markdown",
   "metadata": {},
   "source": [
    "_**Expected Outputs:**_\n",
    "```python\n",
    "test_model(lm, X_test, y_test) == 42483684.58\n",
    "```"
   ]
  },
  {
   "cell_type": "code",
   "execution_count": null,
   "metadata": {},
   "outputs": [],
   "source": []
  }
 ],
 "metadata": {
  "kernelspec": {
   "display_name": "Python 3 (ipykernel)",
   "language": "python",
   "name": "python3"
  },
  "language_info": {
   "codemirror_mode": {
    "name": "ipython",
    "version": 3
   },
   "file_extension": ".py",
   "mimetype": "text/x-python",
   "name": "python",
   "nbconvert_exporter": "python",
   "pygments_lexer": "ipython3",
   "version": "3.8.12"
  }
 },
 "nbformat": 4,
 "nbformat_minor": 2
}
